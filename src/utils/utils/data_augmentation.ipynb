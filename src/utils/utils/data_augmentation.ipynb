{
  "cells": [
    {
      "cell_type": "code",
      "execution_count": null,
      "metadata": {
        "id": "QyWbjVRsiGPO"
      },
      "outputs": [],
      "source": [
        "import os\n",
        "import pandas as pd\n",
        "import pprint\n",
        "import numpy as np\n",
        "import zipfile\n",
        "import shutil\n",
        "import matplotlib.pyplot as plt\n",
        "import csv"
      ]
    },
    {
      "cell_type": "code",
      "execution_count": null,
      "metadata": {},
      "outputs": [],
      "source": [
        "imu_data = [\"Imu0\", \"Imu1\", \"Imu2\"]\n",
        "imu_attributes = [\"linear_accleration_x\", \"linear_accleration_y\", \"linear_accleration_z\", \"angular_velocity_x\", \"angular_velocity_y\", \"angular_velocity_z\",                   \"orientation_x\", \"orientation_y\", \"orientation_z\", \"orientation_w\"]\n",
        "imu_transformations = [\"imu0_to_imu1\", \"imu0_to_imu2\"]\n",
        "\n",
        "COLUMNS = [f\"{imu}_{attr}\" for imu in imu_data for attr in imu_attributes]\n",
        "COLUMNS += [f\"{transformation}_translation_{axis}\" for transformation in imu_transformations for axis in [\"x\", \"y\", \"z\"]]\n",
        "COLUMNS += [f\"{transformation}_rotation_{axis}\" for transformation in imu_transformations for axis in [\"x\", \"y\", \"z\", \"w\"]]"
      ]
    },
    {
      "cell_type": "markdown",
      "metadata": {
        "id": "EjRMI6IfhpLC"
      },
      "source": [
        "# Load Data"
      ]
    },
    {
      "cell_type": "code",
      "execution_count": null,
      "metadata": {},
      "outputs": [],
      "source": [
        "GESTURES = [\n",
        "    \"STATIC\",\n",
        "    \"SLIDE_UP\",\n",
        "    \"SLIDE_DOWN\",\n",
        "    \"SLIDE_LEFT\",\n",
        "    \"SLIDE_RIGHT\",\n",
        "    \"RELEASE\",\n",
        "    \"GRASP\",\n",
        "    \"HIGHLIGHT\",\n",
        "    \"ON_YES\",\n",
        "    \"OFF_NO\",\n",
        "    \"NONE\",\n",
        "]\n",
        "\n",
        "def load_data(filepath='/home/ubuntu/FYP-ROS/rosbag/bag/info.txt'):\n",
        "    dataset = {}\n",
        "    with open(filepath, 'r') as f:\n",
        "        for line in f:\n",
        "            line = line.strip()\n",
        "            for gesture in GESTURES:\n",
        "                if line.startswith(f'{gesture}:'):\n",
        "                    key = gesture\n",
        "                    dataset[key] = []\n",
        "                    break\n",
        "            else:\n",
        "                if line != '':\n",
        "                    dataset[key].append(line.split()[-1])\n",
        "    return dataset"
      ]
    },
    {
      "cell_type": "code",
      "execution_count": null,
      "metadata": {
        "id": "wPXH0ms7hhIw"
      },
      "outputs": [],
      "source": [
        "dataset = load_data()\n",
        "for key in dataset:\n",
        "    print(f'{key}: {len(dataset[key])}')"
      ]
    },
    {
      "attachments": {},
      "cell_type": "markdown",
      "metadata": {},
      "source": [
        "# Data Augmentation Algo"
      ]
    },
    {
      "cell_type": "code",
      "execution_count": null,
      "metadata": {},
      "outputs": [],
      "source": [
        "# Adding normal distributed noise\n",
        "def jitter(x, sigma=0.03):\n",
        "  return x + np.random.normal(loc=0., scale=sigma, size=x.shape)\n",
        "\n",
        "# Scaling (Quite literally)\n",
        "def scaling(x, sigma=0.05):\n",
        "  factor = np.random.normal(loc=1., scale=sigma, size=x.shape)\n",
        "  return np.multiply(x, factor)\n",
        "\n",
        "def time_warp(x, sigma=0.1, knot=4):\n",
        "  from scipy.interpolate import CubicSpline\n",
        "  orig_steps = np.arange(x.shape[0])\n",
        "\n",
        "  random_warps = np.random.normal(loc=1.0, scale=sigma, size=(knot+2))\n",
        "  warp_steps = np.linspace(0, x.shape[0]-1., num=knot+2).T\n",
        "\n",
        "  time_warp = CubicSpline(warp_steps, warp_steps * random_warps)(orig_steps)\n",
        "  scale = (x.shape[0]-1)/time_warp[-1]\n",
        "\n",
        "  x = x.T\n",
        "  ret = np.zeros_like(x)\n",
        "\n",
        "  for col_index, col in enumerate(x):\n",
        "      ret[col_index] = np.interp(orig_steps, np.clip(\n",
        "          scale * time_warp, 0, x.shape[1]-1), col)\n",
        "  return ret.T\n"
      ]
    },
    {
      "attachments": {},
      "cell_type": "markdown",
      "metadata": {},
      "source": [
        "# Process"
      ]
    },
    {
      "cell_type": "code",
      "execution_count": null,
      "metadata": {
        "colab": {
          "base_uri": "https://localhost:8080/"
        },
        "id": "jNw3XEqpnuf2",
        "outputId": "29d52190-96fb-4cac-a055-d2860852fd49"
      },
      "outputs": [],
      "source": [
        "data_root_dir = \"/home/ubuntu/FYP-ROS/rosbag/data\"\n",
        "\n",
        "for gesture_type in dataset:\n",
        "  for data_id in dataset[gesture_type]:\n",
        "    original_data_df = pd.read_csv(f\"{data_root_dir}/data_clean/{data_id}_data.csv\")\n",
        "    original_label_df = pd.read_csv(f\"{data_root_dir}/label_clean/{data_id}_label.csv\")\n",
        "    \n",
        "    timestamp_column = original_data_df.pop(\"timestamp\")\n",
        "    numpy_df = original_data_df.to_numpy()[np.newaxis, :]\n",
        "\n",
        "    jitter_df = pd.DataFrame(jitter(numpy_df[0], sigma=0.05), columns=COLUMNS)\n",
        "    # scaling_df = pd.DataFrame(scaling(numpy_df[0]), columns=COLUMNS)\n",
        "    time_warp_df  = pd.DataFrame(time_warp(numpy_df[0], sigma=0.1), columns=COLUMNS)\n",
        "    time_warp_df2 = pd.DataFrame(time_warp(numpy_df[0], sigma=0.125), columns=COLUMNS)\n",
        "\n",
        "    # # Add timestamp column back\n",
        "    original_data_df = pd.concat([timestamp_column, original_data_df], axis=1)\n",
        "    jitter_df = pd.concat([timestamp_column, jitter_df], axis=1)\n",
        "    # scaling_df = pd.concat([timestamp_column, scaling_df], axis=1)\n",
        "    time_warp_df  = pd.concat([timestamp_column, time_warp_df], axis=1)\n",
        "    time_warp_df2 = pd.concat([timestamp_column, time_warp_df2], axis=1)\n",
        "\n",
        "    # # Write to new data csv\n",
        "    original_data_df.to_csv(f\"{data_root_dir}/data_clean_augment/{data_id}_data.csv\", index=False)\n",
        "    jitter_df.to_csv(f\"{data_root_dir}/data_clean_augment/{data_id}_data_jitter.csv\", index=False)\n",
        "    # scaling_df.to_csv(f\"{data_root_dir}/data_clean_augment/{data_id}_data_scaling.csv\", index=False)\n",
        "    time_warp_df.to_csv(f\"{data_root_dir}/data_clean_augment/{data_id}_data_time_warp.csv\", index=False)\n",
        "    time_warp_df2.to_csv(f\"{data_root_dir}/data_clean_augment/{data_id}_data_time_warp2.csv\", index=False)\n",
        "\n",
        "    # # Write to new label csv\n",
        "    original_label_df.to_csv(f\"{data_root_dir}/label_clean_augment/{data_id}_label.csv\", index=False)\n",
        "    original_label_df.to_csv(f\"{data_root_dir}/label_clean_augment/{data_id}_label_jitter.csv\", index=False)\n",
        "    # original_label_df.to_csv(f\"{data_root_dir}/label_clean_augment/{data_id}_label_scaling.csv\", index=False)\n",
        "    original_label_df.to_csv(f\"{data_root_dir}/label_clean_augment/{data_id}_label_time_warp.csv\", index=False)\n",
        "    original_label_df.to_csv(f\"{data_root_dir}/label_clean_augment/{data_id}_label_time_warp2.csv\", index=False)"
      ]
    },
    {
      "attachments": {},
      "cell_type": "markdown",
      "metadata": {},
      "source": [
        "# Plot"
      ]
    },
    {
      "cell_type": "code",
      "execution_count": null,
      "metadata": {},
      "outputs": [],
      "source": [
        "fig, axs = plt.subplots(3, 6, figsize=(20, 10))\n",
        "\n",
        "data_id = np.random.choice(dataset['STATIC'])\n",
        "\n",
        "raw_data = pd.read_csv(f\"{data_root_dir}/data_clean_augment/{data_id}_data.csv\")\n",
        "augment_data = pd.read_csv(f\"{data_root_dir}/data_clean_augment/{data_id}_data_jitter.csv\")\n",
        "\n",
        "acc_axes = axs[:, :3].ravel()\n",
        "vel_axes = axs[:, 3:].ravel()\n",
        "acc_data = [raw_data[f'Imu{i}_linear_accleration_{xyz}'] for i in range(3) for xyz in ['x', 'y', 'z']]\n",
        "augment_acc_data = [augment_data[f'Imu{i}_linear_accleration_{xyz}'] for i in range(3) for xyz in ['x', 'y', 'z']]\n",
        "vel_data = [raw_data[f'Imu{i}_angular_velocity_{xyz}'] for i in range(3) for xyz in ['x', 'y', 'z']]\n",
        "augment_vel_data = [augment_data[f'Imu{i}_angular_velocity_{xyz}'] for i in range(3) for xyz in ['x', 'y', 'z']]\n",
        "acc_titles = [f'Imu{i}_acc_{xyz}' for i in range(3) for xyz in ['x', 'y', 'z']]\n",
        "vel_titles = [f'Imu{i}_vel_{xyz}' for i in range(3) for xyz in ['x', 'y', 'z']]\n",
        "\n",
        "for ax, data, augment_ax, title in zip(acc_axes, acc_data, augment_acc_data, acc_titles):\n",
        "    ax.plot(data, label=\"raw\", color=\"red\")\n",
        "    ax.plot(augment_ax, label=\"augment\", color=\"blue\")\n",
        "    ax.set_title(title)\n",
        "    ax.set_ylim([-1.5 * 9.8, 1.5 * 9.8])\n",
        "\n",
        "for ax, data,augment_ax, title in zip(vel_axes, vel_data, augment_vel_data, vel_titles):\n",
        "    ax.plot(data, label=\"raw\", color=\"red\")\n",
        "    ax.plot(augment_ax, label=\"augment\", color=\"blue\")\n",
        "    ax.set_title(title)\n",
        "    ax.set_ylim([-5, 5])\n",
        "\n",
        "fig.legend(['raw', 'augment'])\n",
        "fig.suptitle(f\"Data Augmentation for {data_id}\")\n",
        "plt.show()\n"
      ]
    }
  ],
  "metadata": {
    "colab": {
      "provenance": []
    },
    "kernelspec": {
      "display_name": "Python 3.8.10 64-bit",
      "language": "python",
      "name": "python3"
    },
    "language_info": {
      "codemirror_mode": {
        "name": "ipython",
        "version": 3
      },
      "file_extension": ".py",
      "mimetype": "text/x-python",
      "name": "python",
      "nbconvert_exporter": "python",
      "pygments_lexer": "ipython3",
      "version": "3.8.10"
    },
    "vscode": {
      "interpreter": {
        "hash": "31f2aee4e71d21fbe5cf8b01ff0e069b9275f58929596ceb00d14d90e3e16cd6"
      }
    }
  },
  "nbformat": 4,
  "nbformat_minor": 0
}
