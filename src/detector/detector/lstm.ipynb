{
  "cells": [
    {
      "cell_type": "code",
      "execution_count": null,
      "metadata": {
        "id": "J7eHgv8OUuaI"
      },
      "outputs": [],
      "source": [
        "import os\n",
        "import numpy as np\n",
        "import pandas as pd\n",
        "import tensorflow as tf\n",
        "import re \n",
        "import datetime\n",
        "\n",
        "from tensorflow import keras\n",
        "from tensorflow.keras import layers\n",
        "from tensorflow.keras.preprocessing import sequence\n",
        "from keras.models import Sequential\n",
        "from keras.layers import Activation, Dense, Dropout, LSTM, Softmax, Bidirectional\n",
        "from keras.callbacks import EarlyStopping\n",
        "from sklearn.model_selection import train_test_split\n",
        "from sklearn.metrics import confusion_matrix\n",
        "\n",
        "import matplotlib.pyplot as plt\n",
        "import seaborn as sns"
      ]
    },
    {
      "cell_type": "code",
      "execution_count": null,
      "metadata": {
        "colab": {
          "base_uri": "https://localhost:8080/"
        },
        "id": "M13ahgc_xB8Y",
        "outputId": "123c374e-c0b5-472b-9680-93efa627c650"
      },
      "outputs": [],
      "source": [
        "print(f\"{tf.__version__=}\")\n",
        "print(f\"{np.__version__=}\")\n",
        "print(\"nvidia-smi\")\n",
        "!nvidia-smi\n",
        "print(\"nvcc version\")\n",
        "!nvcc --version\n",
        "print(\"nvinfer version\")\n",
        "!dpkg -l | grep nvinfer\n",
        "print(\"TensorRT version\")\n",
        "!dpkg -l | grep TensorRT"
      ]
    },
    {
      "cell_type": "markdown",
      "metadata": {
        "id": "HxgFSsAOLniB"
      },
      "source": [
        "# Load & Prepare Data"
      ]
    },
    {
      "cell_type": "code",
      "execution_count": null,
      "metadata": {
        "id": "9YTvq7NLucIq"
      },
      "outputs": [],
      "source": [
        "GESTRUE=[\"STATIC\", \"SLIDE_UP\", \"SLIDE_DOWN\", \"SLIDE_LEFT\", \"SLIDE_RIGHT\", \"ZOOM_IN\", \"ZOOM_OUT\", \"HIGHLIGHT\", \"ON_YES\", \"OFF_NO\", \"END\",]\n",
        "NUM_CLASSES = len(GESTRUE)"
      ]
    },
    {
      "cell_type": "code",
      "execution_count": null,
      "metadata": {
        "colab": {
          "base_uri": "https://localhost:8080/"
        },
        "id": "yh72CyqaF9US",
        "outputId": "03f64ef7-5f92-4a56-ae80-203b7548cf89"
      },
      "outputs": [],
      "source": [
        "# data_dir = \"/content/drive/MyDrive/Colab Notebooks/rosbag/labeled_data/labeled_data_30hz\"\n",
        "data_dir = \"/home/ubuntu/FYP-ROS/rosbag/data\"\n",
        "data_files = sorted(os.listdir(f\"{data_dir}/data\"))\n",
        "label_files = sorted(os.listdir(f\"{data_dir}/label\"))\n",
        "assert len(data_files) == len(label_files), \"error; some files are missing\"\n",
        "\n",
        "X = []\n",
        "y = []\n",
        "\n",
        "for data_file, label_file in zip(data_files, label_files):\n",
        "    data_match  = re.search(r\"rosbag2_([\\w]+-[\\w]+)_data.csv\", data_file) \n",
        "    label_match = re.search(r\"rosbag2_([\\w]+-[\\w]+)_label.csv\", label_file) \n",
        "    assert data_match.group(1) == label_match.group(1), \"error; data and label file names do not match\"\n",
        "\n",
        "    data_path = os.path.join(f\"{data_dir}/data\", data_file)\n",
        "    if os.path.isfile(data_path):\n",
        "        x_raw = pd.read_csv(data_path)\n",
        "        x_raw[\"timestamp\"] -= x_raw[\"timestamp\"][0]\n",
        "        x_raw=x_raw.drop([\"imu0_to_imu1_rotation_x\", \"imu0_to_imu1_rotation_y\", \"imu0_to_imu1_rotation_z\", \"imu0_to_imu1_rotation_w\",\n",
        "                          \"imu0_to_imu2_rotation_x\", \"imu0_to_imu2_rotation_y\", \"imu0_to_imu2_rotation_z\", \"imu0_to_imu2_rotation_w\"], axis=1)\n",
        "\n",
        "        x_raw = x_raw.to_numpy()\n",
        "        x_raw = np.pad(x_raw, ((0, 500 - x_raw.shape[0]), (0, 0)), 'constant')\n",
        "        X.append(x_raw)\n",
        "\n",
        "    label_path = os.path.join(f\"{data_dir}/label\", label_file)\n",
        "    if os.path.isfile(label_path):\n",
        "        y.append(pd.read_csv(label_path)['label'])\n",
        "\n",
        "X = np.array(X)\n",
        "y = tf.keras.utils.to_categorical(y, num_classes=NUM_CLASSES)\n",
        "\n",
        "# print dimension\n",
        "print(f\"{X.shape=}\")\n",
        "print(f\"{y.shape=}\")\n",
        "\n",
        "print(f\"{X[1]=}\")\n",
        "print(f\"{y[100]=}\")"
      ]
    },
    {
      "cell_type": "code",
      "execution_count": null,
      "metadata": {
        "id": "d5Uyo2-Sg6dY"
      },
      "outputs": [],
      "source": [
        "X_train, X_test, y_train, y_test = train_test_split(X, y, test_size=0.2, random_state=42)"
      ]
    },
    {
      "cell_type": "markdown",
      "metadata": {
        "id": "DcsjnPznl4uw"
      },
      "source": [
        "# Build Model"
      ]
    },
    {
      "cell_type": "code",
      "execution_count": null,
      "metadata": {
        "colab": {
          "base_uri": "https://localhost:8080/"
        },
        "id": "jQ-alFKYzmsw",
        "outputId": "17a0a44a-bcb7-45c9-ca06-a8d248ef8b88"
      },
      "outputs": [],
      "source": [
        "model=Sequential()\n",
        "\n",
        "model.add(Bidirectional(LSTM(units=64, return_sequences=True), input_shape=(500, 37), name='BiLSTM1'))\n",
        "model.add(Dropout(0.2, name='Dropout1'))\n",
        "model.add(Bidirectional(LSTM(units=64, return_sequences=True, name='BiLSTM2')))\n",
        "model.add(Dropout(0.2, name='Dropout2'))\n",
        "model.add(Bidirectional(LSTM(units=64), name='BiLSTM3'))\n",
        "model.add(Dropout(0.2, name='Dropout3'))\n",
        "model.add(Dense(64, activation='relu', name='Dense1'))\n",
        "model.add(Dense(NUM_CLASSES, activation='softmax', name='Dense2'))\n",
        "\n",
        "model.compile(loss='categorical_crossentropy',\n",
        "              optimizer='adam',\n",
        "              metrics=['accuracy'])\n",
        "print(model.summary())"
      ]
    },
    {
      "cell_type": "code",
      "execution_count": null,
      "metadata": {
        "id": "Aq8Yr_zojE8d"
      },
      "outputs": [],
      "source": [
        "# model.load_weights(\"/home/ubuntu/FYP-ROS/weights/model_lstm_weights-2023_2_24-14_51-acc0.96.h5\")"
      ]
    },
    {
      "cell_type": "markdown",
      "metadata": {
        "id": "14cv8JmKl6Pk"
      },
      "source": [
        "# Training"
      ]
    },
    {
      "cell_type": "code",
      "execution_count": null,
      "metadata": {
        "colab": {
          "base_uri": "https://localhost:8080/"
        },
        "id": "n39iA43NF62t",
        "outputId": "5ae05e20-108a-4f58-c5af-b3061017a402"
      },
      "outputs": [],
      "source": [
        "early_stopping_monitor = EarlyStopping(patience=4)\n",
        "history = model.fit(X_train, y_train, validation_data=(X_test, y_test), epochs=30, batch_size=16, callbacks=[early_stopping_monitor])"
      ]
    },
    {
      "cell_type": "code",
      "execution_count": null,
      "metadata": {
        "colab": {
          "base_uri": "https://localhost:8080/",
          "height": 313
        },
        "id": "v5rhMIU3_p7w",
        "outputId": "d9bf9d8d-3e23-4f10-cab5-7438822559de"
      },
      "outputs": [],
      "source": [
        "print(history.history.keys())\n",
        "plt.plot(history.history['loss'])\n",
        "plt.plot(history.history['val_loss'])\n",
        "plt.title('model loss')\n",
        "plt.ylabel('loss')\n",
        "plt.xlabel('epoch')\n",
        "plt.legend(['train', 'val'], loc='upper left')\n",
        "plt.show()"
      ]
    },
    {
      "cell_type": "markdown",
      "metadata": {
        "id": "zv3I2Xr3jqts"
      },
      "source": [
        "# Evaluate"
      ]
    },
    {
      "cell_type": "code",
      "execution_count": null,
      "metadata": {
        "colab": {
          "base_uri": "https://localhost:8080/"
        },
        "id": "_25YJpdPPwK5",
        "outputId": "7608f1b3-7ddc-4d8b-c1e9-6ecc60ae29fa"
      },
      "outputs": [],
      "source": [
        "scores = model.evaluate(X_test, y_test, verbose=0)\n",
        "print(f\"{scores=}\")"
      ]
    },
    {
      "cell_type": "code",
      "execution_count": null,
      "metadata": {
        "colab": {
          "base_uri": "https://localhost:8080/"
        },
        "id": "Med8GgsumOZX",
        "outputId": "a99bb866-0de3-462f-c0ae-1525ae0f9e15"
      },
      "outputs": [],
      "source": [
        "y_pred = model.predict(X_test)\n",
        "\n",
        "print(f\"{np.argmax(y_pred, axis=1)=}\")\n",
        "print(f\"{np.argmax(y_test, axis=1)=}\")\n",
        "\n",
        "error_data_index = []\n",
        "for i, (yp, yt) in enumerate(zip(np.argmax(y_pred, axis=1), np.argmax(y_test, axis=1))):\n",
        "    if yp != yt:\n",
        "        print(f\"index: {i}, predicted: {GESTRUE[yp]}, actual: {GESTRUE[yt]}\")\n",
        "        error_data_index.append(i)"
      ]
    },
    {
      "cell_type": "code",
      "execution_count": null,
      "metadata": {
        "colab": {
          "base_uri": "https://localhost:8080/",
          "height": 301
        },
        "id": "dYxrNLa_tbEI",
        "outputId": "157bff66-e04d-4fc6-8505-e0d3b550a627"
      },
      "outputs": [],
      "source": [
        "y_test_not_onehot = np.argmax(y_test, axis=1)\n",
        "y_pred_not_onehot = np.argmax(y_pred, axis=1)\n",
        "matrix_confusion = confusion_matrix(y_pred_not_onehot, y_test_not_onehot)\n",
        "sns.heatmap(matrix_confusion, square=True, annot=True, cmap='Blues', fmt='d')\n",
        "plt.xlabel('predictions')\n",
        "plt.ylabel('ground truth')"
      ]
    },
    {
      "cell_type": "code",
      "execution_count": null,
      "metadata": {
        "colab": {
          "base_uri": "https://localhost:8080/",
          "height": 681
        },
        "id": "HJrkHzcfDxRN",
        "outputId": "e4edfe68-cdc5-497f-fc94-788f60c797a0"
      },
      "outputs": [],
      "source": [
        "print(f\"total error data size: {len(error_data_index)}\")\n",
        "index = error_data_index[4]\n",
        "\n",
        "true_label = np.argmax(y_test[index])\n",
        "predicted_class = np.argmax(y_pred[index])\n",
        "\n",
        "print(f\"{GESTRUE[true_label]=}\")\n",
        "print(f\"{GESTRUE[predicted_class]=}\")\n",
        "\n",
        "fig, axs = plt.subplots(3, 6, figsize=(20, 10))\n",
        "\n",
        "raw_data = X_test[index]\n",
        "acc_axes = axs[:, :3].ravel()\n",
        "vel_axes = axs[:, 3:].ravel()\n",
        "acc_data = np.concatenate([raw_data[:,1:4], raw_data[:,11:14], raw_data[:,21:24]], axis=1)\n",
        "vel_data = np.concatenate([raw_data[:,4:7], raw_data[:,14:17], raw_data[:,24:27]], axis=1)\n",
        "acc_titles = [f'Imu{i}_acc_{xyz}' for i in range(3) for xyz in ['x', 'y', 'z']]\n",
        "vel_titles = [f'Imu{i}_vel_{xyz}' for i in range(3) for xyz in ['x', 'y', 'z']]\n",
        "\n",
        "for ax, data, title in zip(acc_axes, acc_data.T, acc_titles):\n",
        "    ax.plot(data)\n",
        "    ax.set_title(title)\n",
        "    ax.set_ylim([-1.5 * 9.8, 1.5 * 9.8])\n",
        "    \n",
        "for ax, data, title in zip(vel_axes, vel_data.T, vel_titles):\n",
        "    ax.plot(data)\n",
        "    ax.set_title(title)\n",
        "    ax.set_ylim([-5, 5])\n",
        "\n",
        "fig.suptitle(f'labeled: {GESTRUE[true_label]}, predicted: {GESTRUE[predicted_class]}')\n",
        "plt.plot()"
      ]
    },
    {
      "cell_type": "markdown",
      "metadata": {
        "id": "ExqD0F92bGNb"
      },
      "source": [
        "# Save model"
      ]
    },
    {
      "cell_type": "code",
      "execution_count": null,
      "metadata": {
        "id": "k9kw6VNFbF_m"
      },
      "outputs": [],
      "source": [
        "t = datetime.datetime.now()\n",
        "t_str = f\"{t.year}_{t.month}_{t.day}-{t.hour}_{t.minute}\"\n",
        "acc_str = f\"{scores[1]:.2f}\" \n",
        "model.save_weights(f'/home/ubuntu/FYP-ROS/weights/model_lstm_weights-{t_str}-acc{acc_str}.h5')"
      ]
    },
    {
      "cell_type": "markdown",
      "metadata": {
        "id": "Cf_SnLotUIXu"
      },
      "source": [
        "# Explaination "
      ]
    },
    {
      "cell_type": "code",
      "execution_count": null,
      "metadata": {
        "id": "r_4S-pRiULfn"
      },
      "outputs": [],
      "source": [
        "# !pip install shap\n",
        "# import shap"
      ]
    },
    {
      "cell_type": "code",
      "execution_count": null,
      "metadata": {
        "id": "jM_HRRVCUHVB"
      },
      "outputs": [],
      "source": [
        "# explainer = shap.Explainer(model)\n",
        "# shap_values = explainer(X_train.transpose(0, 2, 1))\n",
        "# shap.summary_plot(shap_values, X_train.transpose(0, 2, 1))"
      ]
    }
  ],
  "metadata": {
    "accelerator": "GPU",
    "colab": {
      "provenance": []
    },
    "gpuClass": "standard",
    "kernelspec": {
      "display_name": "Python 3 (ipykernel)",
      "language": "python",
      "name": "python3"
    },
    "language_info": {
      "codemirror_mode": {
        "name": "ipython",
        "version": 3
      },
      "file_extension": ".py",
      "mimetype": "text/x-python",
      "name": "python",
      "nbconvert_exporter": "python",
      "pygments_lexer": "ipython3",
      "version": "3.8.10"
    }
  },
  "nbformat": 4,
  "nbformat_minor": 0
}
