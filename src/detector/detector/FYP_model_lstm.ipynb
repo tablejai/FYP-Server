{
  "cells": [
    {
      "cell_type": "code",
      "execution_count": 1,
      "metadata": {
        "id": "J7eHgv8OUuaI"
      },
      "outputs": [
        {
          "name": "stderr",
          "output_type": "stream",
          "text": [
            "/usr/local/lib/python3.8/dist-packages/tensorflow_io/python/ops/__init__.py:98: UserWarning: unable to load libtensorflow_io_plugins.so: unable to open file: libtensorflow_io_plugins.so, from paths: ['/usr/local/lib/python3.8/dist-packages/tensorflow_io/python/ops/libtensorflow_io_plugins.so']\n",
            "caused by: [\"[Errno 2] The file to load file system plugin from does not exist.: '/usr/local/lib/python3.8/dist-packages/tensorflow_io/python/ops/libtensorflow_io_plugins.so'\"]\n",
            "  warnings.warn(f\"unable to load libtensorflow_io_plugins.so: {e}\")\n",
            "/usr/local/lib/python3.8/dist-packages/tensorflow_io/python/ops/__init__.py:104: UserWarning: file system plugins are not loaded: unable to open file: libtensorflow_io.so, from paths: ['/usr/local/lib/python3.8/dist-packages/tensorflow_io/python/ops/libtensorflow_io.so']\n",
            "caused by: ['/usr/local/lib/python3.8/dist-packages/tensorflow_io/python/ops/libtensorflow_io.so: cannot open shared object file: No such file or directory']\n",
            "  warnings.warn(f\"file system plugins are not loaded: {e}\")\n"
          ]
        }
      ],
      "source": [
        "import os\n",
        "import numpy as np\n",
        "import pandas as pd\n",
        "import tensorflow as tf\n",
        "\n",
        "from tensorflow import keras\n",
        "from tensorflow.keras import layers\n",
        "from tensorflow.keras.preprocessing import sequence\n",
        "from keras.models import Sequential\n",
        "from keras.layers import Activation, Dense, Dropout, LSTM, Softmax, Bidirectional\n",
        "from sklearn.model_selection import train_test_split\n",
        "from sklearn.metrics import confusion_matrix\n",
        "\n",
        "import matplotlib.pyplot as plt\n",
        "import seaborn as sns"
      ]
    },
    {
      "cell_type": "code",
      "execution_count": 2,
      "metadata": {
        "colab": {
          "base_uri": "https://localhost:8080/"
        },
        "id": "M13ahgc_xB8Y",
        "outputId": "31ee1ba7-1364-40b8-c38e-039e3a5ce0e6"
      },
      "outputs": [
        {
          "name": "stdout",
          "output_type": "stream",
          "text": [
            "tf.__version__='2.11.0'\n",
            "np.__version__='1.24.2'\n",
            "nvidia-smi\n",
            "/bin/bash: nvidia-smi: command not found\n",
            "nvcc version\n",
            "/bin/bash: nvcc: command not found\n",
            "nvinfer version\n",
            "TensorRT version\n"
          ]
        }
      ],
      "source": [
        "print(f\"{tf.__version__=}\")\n",
        "print(f\"{np.__version__=}\")\n",
        "print(\"nvidia-smi\")\n",
        "!nvidia-smi\n",
        "print(\"nvcc version\")\n",
        "!nvcc --version\n",
        "print(\"nvinfer version\")\n",
        "!dpkg -l | grep nvinfer\n",
        "print(\"TensorRT version\")\n",
        "!dpkg -l | grep TensorRT\n"
      ]
    },
    {
      "attachments": {},
      "cell_type": "markdown",
      "metadata": {
        "id": "HxgFSsAOLniB"
      },
      "source": [
        "# Load & Prepare Data"
      ]
    },
    {
      "cell_type": "code",
      "execution_count": 3,
      "metadata": {
        "id": "9YTvq7NLucIq"
      },
      "outputs": [],
      "source": [
        "GESTRUE=[\"STATIC\", \"SLIDE_UP\", \"SLIDE_DOWN\", \"SLIDE_LEFT\", \"SLIDE_RIGHT\", \"ZOOM_IN\", \"ZOOM_OUT\", \"HIGHLIGHT\", \"ON_YES\", \"OFF_NO\", \"END\",]"
      ]
    },
    {
      "cell_type": "code",
      "execution_count": 4,
      "metadata": {
        "colab": {
          "base_uri": "https://localhost:8080/"
        },
        "id": "yh72CyqaF9US",
        "outputId": "107cf644-7da7-47f3-cf6a-8c47af5f1360"
      },
      "outputs": [
        {
          "name": "stdout",
          "output_type": "stream",
          "text": [
            "X.shape=(270, 500, 45)\n",
            "y.shape=(270, 7)\n",
            "X[0].shape=(500, 45)\n",
            "X[1].shape=(500, 45)\n",
            "X[1]=array([[0.        , 0.94      , 1.87      , ..., 0.        , 0.        ,\n",
            "        1.        ],\n",
            "       [0.02677846, 0.91      , 1.84      , ..., 0.        , 0.        ,\n",
            "        1.        ],\n",
            "       [0.05713868, 0.94      , 1.82      , ..., 0.        , 0.        ,\n",
            "        1.        ],\n",
            "       ...,\n",
            "       [0.        , 0.        , 0.        , ..., 0.        , 0.        ,\n",
            "        0.        ],\n",
            "       [0.        , 0.        , 0.        , ..., 0.        , 0.        ,\n",
            "        0.        ],\n",
            "       [0.        , 0.        , 0.        , ..., 0.        , 0.        ,\n",
            "        0.        ]])\n",
            "y[100]=array([0., 0., 0., 0., 0., 1., 0.], dtype=float32)\n"
          ]
        }
      ],
      "source": [
        "directory = \"/content/drive/MyDrive/Colab Notebooks/rosbag/labeled_data/labeled_data_30hz\"\n",
        "directory = \"/home/ubuntu/FYP-ROS/rosbag/data\"\n",
        "\n",
        "# get x\n",
        "X = []\n",
        "for filename in os.listdir(f\"{directory}/data\"):\n",
        "    f = os.path.join(f\"{directory}/data\", filename)\n",
        "    if os.path.isfile(f):\n",
        "        x_raw = pd.read_csv(f)\n",
        "        x_raw[\"timestamp\"] -= x_raw[\"timestamp\"][0]\n",
        "        x_raw = x_raw.to_numpy()\n",
        "        x_raw = np.pad(x_raw, ((0, 500 - x_raw.shape[0]), (0, 0)), 'constant')\n",
        "        X.append(x_raw)\n",
        "\n",
        "X = np.array(X)\n",
        "\n",
        "# get y\n",
        "y = []\n",
        "for filename in os.listdir(f\"{directory}/label\"):\n",
        "    f = os.path.join(f\"{directory}/label\", filename)\n",
        "    if os.path.isfile(f):\n",
        "        y.append(pd.read_csv(f)['label'])\n",
        "\n",
        "y = tf.keras.utils.to_categorical(y, num_classes=7)\n",
        "\n",
        "# print dimension\n",
        "print(f\"{X.shape=}\")\n",
        "print(f\"{y.shape=}\")\n",
        "\n",
        "print(f\"{X[0].shape=}\")\n",
        "print(f\"{X[1].shape=}\")\n",
        "\n",
        "print(f\"{X[1]=}\")\n",
        "print(f\"{y[100]=}\")"
      ]
    },
    {
      "cell_type": "code",
      "execution_count": 5,
      "metadata": {
        "id": "d5Uyo2-Sg6dY"
      },
      "outputs": [],
      "source": [
        "X_train, X_test, y_train, y_test = train_test_split(X, y, test_size=0.1, random_state=42)"
      ]
    },
    {
      "cell_type": "markdown",
      "metadata": {
        "id": "DcsjnPznl4uw"
      },
      "source": [
        "# Build Model"
      ]
    },
    {
      "cell_type": "code",
      "execution_count": 6,
      "metadata": {
        "colab": {
          "base_uri": "https://localhost:8080/"
        },
        "id": "jQ-alFKYzmsw",
        "outputId": "16ec3fe7-5b98-459c-e103-776a4a1caae2"
      },
      "outputs": [
        {
          "name": "stdout",
          "output_type": "stream",
          "text": [
            "Model: \"sequential\"\n",
            "_________________________________________________________________\n",
            " Layer (type)                Output Shape              Param #   \n",
            "=================================================================\n",
            " BiLSTM1 (Bidirectional)     (None, 500, 128)          56320     \n",
            "                                                                 \n",
            " Dropout1 (Dropout)          (None, 500, 128)          0         \n",
            "                                                                 \n",
            " bidirectional (Bidirectiona  (None, 500, 128)         98816     \n",
            " l)                                                              \n",
            "                                                                 \n",
            " Dropout2 (Dropout)          (None, 500, 128)          0         \n",
            "                                                                 \n",
            " BiLSTM3 (Bidirectional)     (None, 128)               98816     \n",
            "                                                                 \n",
            " Dense1 (Dense)              (None, 7)                 903       \n",
            "                                                                 \n",
            "=================================================================\n",
            "Total params: 254,855\n",
            "Trainable params: 254,855\n",
            "Non-trainable params: 0\n",
            "_________________________________________________________________\n",
            "None\n"
          ]
        }
      ],
      "source": [
        "model=Sequential()\n",
        "\n",
        "model.add(Bidirectional(LSTM(units=64, return_sequences=True), input_shape=(500, 45), name='BiLSTM1'))\n",
        "model.add(Dropout(0.2, name='Dropout1'))\n",
        "model.add(Bidirectional(LSTM(units=64, return_sequences=True, name='BiLSTM2')))\n",
        "model.add(Dropout(0.2, name='Dropout2'))\n",
        "model.add(Bidirectional(LSTM(units=64), name='BiLSTM3'))\n",
        "model.add(Dense(7, activation='softmax', name='Dense1'))\n",
        "\n",
        "model.compile(loss='categorical_crossentropy',\n",
        "              optimizer='adam',\n",
        "              metrics=['accuracy'])\n",
        "print(model.summary())"
      ]
    },
    {
      "cell_type": "code",
      "execution_count": 7,
      "metadata": {},
      "outputs": [],
      "source": [
        "model.load_weights(\"/home/ubuntu/FYP-ROS/model_lstm_weights.h5\")"
      ]
    },
    {
      "cell_type": "code",
      "execution_count": 9,
      "metadata": {},
      "outputs": [],
      "source": [
        "from tensorflow import keras\n",
        "model2 = keras.models.load_model('/home/ubuntu/FYP-ROS/model_lstm')\n"
      ]
    },
    {
      "cell_type": "markdown",
      "metadata": {
        "id": "14cv8JmKl6Pk"
      },
      "source": [
        "# Training"
      ]
    },
    {
      "cell_type": "code",
      "execution_count": null,
      "metadata": {
        "colab": {
          "base_uri": "https://localhost:8080/"
        },
        "id": "n39iA43NF62t",
        "outputId": "47df5c5d-7f45-48bb-dcbd-de0cdcb08c44"
      },
      "outputs": [],
      "source": [
        "model.fit(X_train, y_train, validation_data=(X_test, y_test), epochs=10, batch_size=32)"
      ]
    },
    {
      "attachments": {},
      "cell_type": "markdown",
      "metadata": {
        "id": "zv3I2Xr3jqts"
      },
      "source": [
        "# Evaluate\n"
      ]
    },
    {
      "cell_type": "code",
      "execution_count": 10,
      "metadata": {
        "colab": {
          "base_uri": "https://localhost:8080/"
        },
        "id": "_25YJpdPPwK5",
        "outputId": "181dba88-9865-44fb-e9de-62103f538a34"
      },
      "outputs": [
        {
          "name": "stdout",
          "output_type": "stream",
          "text": [
            "scores=[6.782397747039795, 0.07407407462596893]\n"
          ]
        }
      ],
      "source": [
        "scores = model2.evaluate(X_test, y_test, verbose=0)\n",
        "print(f\"{scores=}\")"
      ]
    },
    {
      "cell_type": "code",
      "execution_count": null,
      "metadata": {
        "colab": {
          "base_uri": "https://localhost:8080/"
        },
        "id": "Med8GgsumOZX",
        "outputId": "93a2aa1b-19b7-4f28-d9dc-b14119ac0acb"
      },
      "outputs": [],
      "source": [
        "y_pred = model.predict(X_test)\n",
        "\n",
        "print(f\"{np.argmax(y_pred, axis=1)=}\")\n",
        "print(f\"{np.argmax(y_test, axis=1)=}\")\n"
      ]
    },
    {
      "cell_type": "code",
      "execution_count": null,
      "metadata": {
        "colab": {
          "base_uri": "https://localhost:8080/",
          "height": 301
        },
        "id": "dYxrNLa_tbEI",
        "outputId": "0e0e90b8-6d8d-4652-e923-d58aab22ea9b"
      },
      "outputs": [],
      "source": [
        "y_test_not_onehot = np.argmax(y_test, axis=1)\n",
        "y_pred_not_onehot = np.argmax(y_pred, axis=1)\n",
        "matrix_confusion = confusion_matrix(y_pred_not_onehot, y_test_not_onehot)\n",
        "sns.heatmap(matrix_confusion, square=True, annot=True, cmap='Blues', fmt='d')\n",
        "plt.xlabel('predictions')\n",
        "plt.ylabel('ground truth')"
      ]
    },
    {
      "cell_type": "code",
      "execution_count": null,
      "metadata": {
        "colab": {
          "base_uri": "https://localhost:8080/",
          "height": 676
        },
        "id": "HJrkHzcfDxRN",
        "outputId": "20ee2657-4389-4ac0-b876-59391856129c"
      },
      "outputs": [],
      "source": [
        "raw_data = X_test[10]\n",
        "label = np.argmax(y_test[10])\n",
        "\n",
        "fig, axs = plt.subplots(3, 6, figsize=(20, 10))\n",
        "\n",
        "time = np.array(raw_data[:, 0])\n",
        "acc_axes = axs[:, :3].ravel()\n",
        "vel_axes = axs[:, 3:].ravel()\n",
        "acc_data = np.concatenate([raw_data[:,1:4], raw_data[:,11:14], raw_data[:,21:24]], axis=1)\n",
        "vel_data = np.concatenate([raw_data[:,4:7], raw_data[:,14:17], raw_data[:,24:27]], axis=1)\n",
        "acc_titles = [f'Imu{i}_acc_{xyz}' for i in range(3) for xyz in ['x', 'y', 'z']]\n",
        "vel_titles = [f'Imu{i}_vel_{xyz}' for i in range(3) for xyz in ['x', 'y', 'z']]\n",
        "\n",
        "for ax, data, title in zip(acc_axes, acc_data.T, acc_titles):\n",
        "    \n",
        "    ax.plot(time[0:100], data[0:100])\n",
        "    ax.set_title(title)\n",
        "    ax.set_ylim([-1.5 * 9.8, 1.5 * 9.8])\n",
        "    \n",
        "for ax, data, title in zip(vel_axes, vel_data.T, vel_titles):\n",
        "    ax.plot(data.flatten())\n",
        "    ax.set_title(title)\n",
        "    ax.set_ylim([-5, 5])\n",
        "\n",
        "plt.plot()\n",
        "fig.suptitle(f'{label}')"
      ]
    },
    {
      "cell_type": "markdown",
      "metadata": {
        "id": "ExqD0F92bGNb"
      },
      "source": [
        "# Save model"
      ]
    },
    {
      "cell_type": "code",
      "execution_count": null,
      "metadata": {
        "id": "k9kw6VNFbF_m"
      },
      "outputs": [],
      "source": [
        "model.save('/content/drive/MyDrive/Colab Notebooks/model_lstm_weights.h5')"
      ]
    },
    {
      "cell_type": "markdown",
      "metadata": {
        "id": "Cf_SnLotUIXu"
      },
      "source": [
        "# Explaination "
      ]
    },
    {
      "cell_type": "code",
      "execution_count": null,
      "metadata": {
        "colab": {
          "base_uri": "https://localhost:8080/"
        },
        "id": "r_4S-pRiULfn",
        "outputId": "936828b5-3f1e-4bef-ce21-4cf264460e5f"
      },
      "outputs": [],
      "source": [
        "!pip install shap\n",
        "import shap"
      ]
    },
    {
      "cell_type": "code",
      "execution_count": null,
      "metadata": {
        "colab": {
          "base_uri": "https://localhost:8080/",
          "height": 389
        },
        "id": "jM_HRRVCUHVB",
        "outputId": "7e503bd0-cd26-48e9-8038-700f3382acd5"
      },
      "outputs": [],
      "source": [
        "explainer = shap.Explainer(model)\n",
        "shap_values = explainer(X_train.transpose(0, 2, 1))\n",
        "shap.summary_plot(shap_values, X_train.transpose(0, 2, 1))"
      ]
    }
  ],
  "metadata": {
    "accelerator": "GPU",
    "colab": {
      "provenance": []
    },
    "gpuClass": "standard",
    "kernelspec": {
      "display_name": "Python 3 (ipykernel)",
      "language": "python",
      "name": "python3"
    },
    "language_info": {
      "codemirror_mode": {
        "name": "ipython",
        "version": 3
      },
      "file_extension": ".py",
      "mimetype": "text/x-python",
      "name": "python",
      "nbconvert_exporter": "python",
      "pygments_lexer": "ipython3",
      "version": "3.8.10"
    }
  },
  "nbformat": 4,
  "nbformat_minor": 0
}
